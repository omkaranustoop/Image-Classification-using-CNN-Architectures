{
  "nbformat": 4,
  "nbformat_minor": 0,
  "metadata": {
    "colab": {
      "name": "Cats VS Dogs Classification With Augmentation.ipynb",
      "provenance": [],
      "collapsed_sections": [],
      "toc_visible": true
    },
    "kernelspec": {
      "name": "python3",
      "display_name": "Python 3"
    },
    "accelerator": "GPU"
  },
  "cells": [
    {
      "cell_type": "markdown",
      "metadata": {
        "id": "iXM5rGmrapt7",
        "colab_type": "text"
      },
      "source": [
        "# Getting the Dataset"
      ]
    },
    {
      "cell_type": "code",
      "metadata": {
        "id": "QPFVkdGHYpCi",
        "colab_type": "code",
        "outputId": "8538b1f2-743d-4f29-8758-5c9a90e80d49",
        "colab": {
          "base_uri": "https://localhost:8080/",
          "height": 204
        }
      },
      "source": [
        "!wget --no-check-certificate \\\n",
        "    https://storage.googleapis.com/mledu-datasets/cats_and_dogs_filtered.zip \\\n",
        "    -O /tmp/cats_and_dogs_filtered.zip"
      ],
      "execution_count": 3,
      "outputs": [
        {
          "output_type": "stream",
          "text": [
            "--2020-06-03 08:42:32--  https://storage.googleapis.com/mledu-datasets/cats_and_dogs_filtered.zip\n",
            "Resolving storage.googleapis.com (storage.googleapis.com)... 64.233.184.128, 2a00:1450:400c:c0c::80\n",
            "Connecting to storage.googleapis.com (storage.googleapis.com)|64.233.184.128|:443... connected.\n",
            "HTTP request sent, awaiting response... 200 OK\n",
            "Length: 68606236 (65M) [application/zip]\n",
            "Saving to: ‘/tmp/cats_and_dogs_filtered.zip’\n",
            "\n",
            "/tmp/cats_and_dogs_ 100%[===================>]  65.43M  68.0MB/s    in 1.0s    \n",
            "\n",
            "2020-06-03 08:42:33 (68.0 MB/s) - ‘/tmp/cats_and_dogs_filtered.zip’ saved [68606236/68606236]\n",
            "\n"
          ],
          "name": "stdout"
        }
      ]
    },
    {
      "cell_type": "markdown",
      "metadata": {
        "id": "heJGbaa3azL_",
        "colab_type": "text"
      },
      "source": [
        "# Creating Directories for Training and Validation"
      ]
    },
    {
      "cell_type": "code",
      "metadata": {
        "id": "bIvBBTrkaucn",
        "colab_type": "code",
        "colab": {}
      },
      "source": [
        "import os\n",
        "import zipfile\n",
        "import tensorflow as tf\n",
        "from tensorflow.keras.optimizers import RMSprop,Adam\n",
        "from tensorflow.keras.preprocessing.image import ImageDataGenerator\n",
        "\n",
        "local_zip = '/tmp/cats_and_dogs_filtered.zip'\n",
        "zip_ref = zipfile.ZipFile(local_zip, 'r')\n",
        "zip_ref.extractall('/tmp')\n",
        "zip_ref.close()\n",
        "\n",
        "base_dir = '/tmp/cats_and_dogs_filtered'\n",
        "train_dir = os.path.join(base_dir, 'train')\n",
        "validation_dir = os.path.join(base_dir, 'validation')\n",
        "\n",
        "# Directory with our training cat pictures\n",
        "train_cats_dir = os.path.join(train_dir, 'cats')\n",
        "\n",
        "# Directory with our training dog pictures\n",
        "train_dogs_dir = os.path.join(train_dir, 'dogs')\n",
        "\n",
        "# Directory with our validation cat pictures\n",
        "validation_cats_dir = os.path.join(validation_dir, 'cats')\n",
        "\n",
        "# Directory with our validation dog pictures\n",
        "validation_dogs_dir = os.path.join(validation_dir, 'dogs')\n"
      ],
      "execution_count": 0,
      "outputs": []
    },
    {
      "cell_type": "markdown",
      "metadata": {
        "id": "t-pAvTd1eB9N",
        "colab_type": "text"
      },
      "source": [
        "# Building a Sequential Model"
      ]
    },
    {
      "cell_type": "code",
      "metadata": {
        "id": "tqVX0Pdua-u7",
        "colab_type": "code",
        "outputId": "0ad6d360-65dc-42bf-d3de-fbfda1f51209",
        "colab": {
          "base_uri": "https://localhost:8080/",
          "height": 765
        }
      },
      "source": [
        "model = tf.keras.models.Sequential([\n",
        "                                    \n",
        "    tf.keras.layers.Conv2D(16, (3,3), activation='relu', input_shape=(150, 150, 3)),\n",
        "    tf.keras.layers.MaxPooling2D(2, 2),\n",
        "    tf.keras.layers.Dropout(0.4),\n",
        "\n",
        "    tf.keras.layers.Conv2D(32, (3,3), activation='relu'),\n",
        "    tf.keras.layers.MaxPooling2D(2,2),\n",
        "    tf.keras.layers.Dropout(0.3),\n",
        "\n",
        "    tf.keras.layers.Conv2D(64, (3,3), activation='relu'),\n",
        "    tf.keras.layers.MaxPooling2D(2,2),\n",
        "    tf.keras.layers.Dropout(0.2),\n",
        "\n",
        "    tf.keras.layers.Conv2D(64, (3,3), activation='relu'),\n",
        "    tf.keras.layers.MaxPooling2D(2,2),\n",
        "\n",
        "    tf.keras.layers.Conv2D(64, (3,3), activation='relu'),\n",
        "    tf.keras.layers.MaxPooling2D(2,2),\n",
        "\n",
        "\n",
        "    tf.keras.layers.Flatten(),\n",
        "    tf.keras.layers.Dense(256, activation='relu'),\n",
        "    tf.keras.layers.Dense(128, activation='relu'),\n",
        "    tf.keras.layers.Dense(64, activation='relu'),\n",
        "    tf.keras.layers.Dense(1, activation='sigmoid')\n",
        "])\n",
        "\n",
        "model.summary()"
      ],
      "execution_count": 5,
      "outputs": [
        {
          "output_type": "stream",
          "text": [
            "Model: \"sequential\"\n",
            "_________________________________________________________________\n",
            "Layer (type)                 Output Shape              Param #   \n",
            "=================================================================\n",
            "conv2d (Conv2D)              (None, 148, 148, 16)      448       \n",
            "_________________________________________________________________\n",
            "max_pooling2d (MaxPooling2D) (None, 74, 74, 16)        0         \n",
            "_________________________________________________________________\n",
            "dropout (Dropout)            (None, 74, 74, 16)        0         \n",
            "_________________________________________________________________\n",
            "conv2d_1 (Conv2D)            (None, 72, 72, 32)        4640      \n",
            "_________________________________________________________________\n",
            "max_pooling2d_1 (MaxPooling2 (None, 36, 36, 32)        0         \n",
            "_________________________________________________________________\n",
            "dropout_1 (Dropout)          (None, 36, 36, 32)        0         \n",
            "_________________________________________________________________\n",
            "conv2d_2 (Conv2D)            (None, 34, 34, 64)        18496     \n",
            "_________________________________________________________________\n",
            "max_pooling2d_2 (MaxPooling2 (None, 17, 17, 64)        0         \n",
            "_________________________________________________________________\n",
            "dropout_2 (Dropout)          (None, 17, 17, 64)        0         \n",
            "_________________________________________________________________\n",
            "conv2d_3 (Conv2D)            (None, 15, 15, 64)        36928     \n",
            "_________________________________________________________________\n",
            "max_pooling2d_3 (MaxPooling2 (None, 7, 7, 64)          0         \n",
            "_________________________________________________________________\n",
            "conv2d_4 (Conv2D)            (None, 5, 5, 64)          36928     \n",
            "_________________________________________________________________\n",
            "max_pooling2d_4 (MaxPooling2 (None, 2, 2, 64)          0         \n",
            "_________________________________________________________________\n",
            "flatten (Flatten)            (None, 256)               0         \n",
            "_________________________________________________________________\n",
            "dense (Dense)                (None, 256)               65792     \n",
            "_________________________________________________________________\n",
            "dense_1 (Dense)              (None, 128)               32896     \n",
            "_________________________________________________________________\n",
            "dense_2 (Dense)              (None, 64)                8256      \n",
            "_________________________________________________________________\n",
            "dense_3 (Dense)              (None, 1)                 65        \n",
            "=================================================================\n",
            "Total params: 204,449\n",
            "Trainable params: 204,449\n",
            "Non-trainable params: 0\n",
            "_________________________________________________________________\n"
          ],
          "name": "stdout"
        }
      ]
    },
    {
      "cell_type": "markdown",
      "metadata": {
        "id": "SuSjWduuf4dD",
        "colab_type": "text"
      },
      "source": [
        "# Setting an Optimizer and training the model"
      ]
    },
    {
      "cell_type": "code",
      "metadata": {
        "id": "-0CMTxz2ftvp",
        "colab_type": "code",
        "colab": {}
      },
      "source": [
        "model.compile(loss='binary_crossentropy',\n",
        "              optimizer=RMSprop(lr=1e-4),\n",
        "              metrics=['acc'])"
      ],
      "execution_count": 0,
      "outputs": []
    },
    {
      "cell_type": "code",
      "metadata": {
        "id": "UYw192cKgQrw",
        "colab_type": "code",
        "outputId": "3393f737-847b-4bae-9a4e-54666f201447",
        "colab": {
          "base_uri": "https://localhost:8080/",
          "height": 51
        }
      },
      "source": [
        "#Using ImageDataGenerator to generate training and Validation sets\n",
        "train_datagen = ImageDataGenerator( rescale=1./255,\n",
        "      rotation_range=60,\n",
        "      width_shift_range=0.3,\n",
        "      height_shift_range=0.3,\n",
        "      shear_range=0.3,\n",
        "      zoom_range=0.3,\n",
        "      horizontal_flip=True,\n",
        "      fill_mode='nearest')\n",
        "test_datagen = ImageDataGenerator(rescale=1./255)\n",
        "\n",
        "# Flow training images in batches of 20 using train_datagen generator\n",
        "train_generator = train_datagen.flow_from_directory(\n",
        "        train_dir,  # This is the source directory for training images\n",
        "        target_size=(150, 150),  # All images will be resized to 150x150\n",
        "        batch_size=10,\n",
        "        # Since we use binary_crossentropy loss, we need binary labels\n",
        "        class_mode='binary')\n",
        "\n",
        "# Flow validation images in batches of 20 using test_datagen generator\n",
        "validation_generator = test_datagen.flow_from_directory(\n",
        "        validation_dir,\n",
        "        target_size=(150, 150),\n",
        "        batch_size=10,\n",
        "        class_mode='binary')"
      ],
      "execution_count": 7,
      "outputs": [
        {
          "output_type": "stream",
          "text": [
            "Found 2000 images belonging to 2 classes.\n",
            "Found 1000 images belonging to 2 classes.\n"
          ],
          "name": "stdout"
        }
      ]
    },
    {
      "cell_type": "code",
      "metadata": {
        "id": "6GIvcwdxgaJ5",
        "colab_type": "code",
        "outputId": "c4c5c7b6-0444-450a-ee80-d887a1f9a5c9",
        "colab": {
          "base_uri": "https://localhost:8080/",
          "height": 1000
        }
      },
      "source": [
        "# Training the Model\n",
        "history = model.fit_generator(\n",
        "      train_generator,\n",
        "      steps_per_epoch=200,  # 2000 images = batch_size * steps\n",
        "      epochs=50,\n",
        "      validation_data=validation_generator,\n",
        "      validation_steps=100,  # 1000 images = batch_size * steps\n",
        "      verbose=2)"
      ],
      "execution_count": 8,
      "outputs": [
        {
          "output_type": "stream",
          "text": [
            "WARNING:tensorflow:From <ipython-input-8-8e9e50840caa>:8: Model.fit_generator (from tensorflow.python.keras.engine.training) is deprecated and will be removed in a future version.\n",
            "Instructions for updating:\n",
            "Please use Model.fit, which supports generators.\n",
            "Epoch 1/50\n",
            "200/200 - 19s - loss: 0.6951 - acc: 0.5065 - val_loss: 0.6930 - val_acc: 0.5000\n",
            "Epoch 2/50\n",
            "200/200 - 19s - loss: 0.6930 - acc: 0.4935 - val_loss: 0.6934 - val_acc: 0.5000\n",
            "Epoch 3/50\n",
            "200/200 - 19s - loss: 0.6937 - acc: 0.5105 - val_loss: 0.6932 - val_acc: 0.5000\n",
            "Epoch 4/50\n",
            "200/200 - 19s - loss: 0.6921 - acc: 0.5255 - val_loss: 0.6929 - val_acc: 0.5000\n",
            "Epoch 5/50\n",
            "200/200 - 18s - loss: 0.6928 - acc: 0.5090 - val_loss: 0.6919 - val_acc: 0.5020\n",
            "Epoch 6/50\n",
            "200/200 - 18s - loss: 0.6913 - acc: 0.5225 - val_loss: 0.6933 - val_acc: 0.5000\n",
            "Epoch 7/50\n",
            "200/200 - 18s - loss: 0.6897 - acc: 0.5395 - val_loss: 0.6909 - val_acc: 0.5050\n",
            "Epoch 8/50\n",
            "200/200 - 18s - loss: 0.6892 - acc: 0.5430 - val_loss: 0.6914 - val_acc: 0.5040\n",
            "Epoch 9/50\n",
            "200/200 - 18s - loss: 0.6910 - acc: 0.5395 - val_loss: 0.6965 - val_acc: 0.5000\n",
            "Epoch 10/50\n",
            "200/200 - 19s - loss: 0.6845 - acc: 0.5600 - val_loss: 0.6982 - val_acc: 0.5000\n",
            "Epoch 11/50\n",
            "200/200 - 19s - loss: 0.6854 - acc: 0.5605 - val_loss: 0.6968 - val_acc: 0.5030\n",
            "Epoch 12/50\n",
            "200/200 - 18s - loss: 0.6826 - acc: 0.5525 - val_loss: 0.6949 - val_acc: 0.5090\n",
            "Epoch 13/50\n",
            "200/200 - 19s - loss: 0.6794 - acc: 0.5620 - val_loss: 0.6945 - val_acc: 0.5140\n",
            "Epoch 14/50\n",
            "200/200 - 19s - loss: 0.6741 - acc: 0.5810 - val_loss: 0.6916 - val_acc: 0.5330\n",
            "Epoch 15/50\n",
            "200/200 - 19s - loss: 0.6692 - acc: 0.5810 - val_loss: 0.6874 - val_acc: 0.5450\n",
            "Epoch 16/50\n",
            "200/200 - 19s - loss: 0.6656 - acc: 0.5870 - val_loss: 0.6918 - val_acc: 0.5340\n",
            "Epoch 17/50\n",
            "200/200 - 18s - loss: 0.6709 - acc: 0.5740 - val_loss: 0.6826 - val_acc: 0.5500\n",
            "Epoch 18/50\n",
            "200/200 - 19s - loss: 0.6643 - acc: 0.5910 - val_loss: 0.6843 - val_acc: 0.5550\n",
            "Epoch 19/50\n",
            "200/200 - 19s - loss: 0.6569 - acc: 0.6055 - val_loss: 0.6977 - val_acc: 0.5480\n",
            "Epoch 20/50\n",
            "200/200 - 19s - loss: 0.6649 - acc: 0.5720 - val_loss: 0.6767 - val_acc: 0.5670\n",
            "Epoch 21/50\n",
            "200/200 - 18s - loss: 0.6588 - acc: 0.6005 - val_loss: 0.6792 - val_acc: 0.5640\n",
            "Epoch 22/50\n",
            "200/200 - 19s - loss: 0.6548 - acc: 0.6070 - val_loss: 0.6792 - val_acc: 0.5630\n",
            "Epoch 23/50\n",
            "200/200 - 19s - loss: 0.6567 - acc: 0.6070 - val_loss: 0.7053 - val_acc: 0.5410\n",
            "Epoch 24/50\n",
            "200/200 - 19s - loss: 0.6550 - acc: 0.5945 - val_loss: 0.6994 - val_acc: 0.5500\n",
            "Epoch 25/50\n",
            "200/200 - 19s - loss: 0.6486 - acc: 0.6120 - val_loss: 0.6846 - val_acc: 0.5600\n",
            "Epoch 26/50\n",
            "200/200 - 19s - loss: 0.6584 - acc: 0.5925 - val_loss: 0.6623 - val_acc: 0.5840\n",
            "Epoch 27/50\n",
            "200/200 - 19s - loss: 0.6421 - acc: 0.6260 - val_loss: 0.6852 - val_acc: 0.5760\n",
            "Epoch 28/50\n",
            "200/200 - 19s - loss: 0.6438 - acc: 0.6210 - val_loss: 0.6340 - val_acc: 0.6130\n",
            "Epoch 29/50\n",
            "200/200 - 19s - loss: 0.6419 - acc: 0.6195 - val_loss: 0.6357 - val_acc: 0.6110\n",
            "Epoch 30/50\n",
            "200/200 - 19s - loss: 0.6391 - acc: 0.6220 - val_loss: 0.6780 - val_acc: 0.5690\n",
            "Epoch 31/50\n",
            "200/200 - 19s - loss: 0.6339 - acc: 0.6385 - val_loss: 0.6667 - val_acc: 0.5710\n",
            "Epoch 32/50\n",
            "200/200 - 19s - loss: 0.6410 - acc: 0.6245 - val_loss: 0.7154 - val_acc: 0.5540\n",
            "Epoch 33/50\n",
            "200/200 - 20s - loss: 0.6362 - acc: 0.6365 - val_loss: 0.6387 - val_acc: 0.6250\n",
            "Epoch 34/50\n",
            "200/200 - 19s - loss: 0.6408 - acc: 0.6170 - val_loss: 0.6428 - val_acc: 0.6070\n",
            "Epoch 35/50\n",
            "200/200 - 19s - loss: 0.6319 - acc: 0.6315 - val_loss: 0.7267 - val_acc: 0.5780\n",
            "Epoch 36/50\n",
            "200/200 - 19s - loss: 0.6273 - acc: 0.6485 - val_loss: 0.6720 - val_acc: 0.6030\n",
            "Epoch 37/50\n",
            "200/200 - 19s - loss: 0.6304 - acc: 0.6400 - val_loss: 0.6538 - val_acc: 0.6150\n",
            "Epoch 38/50\n",
            "200/200 - 19s - loss: 0.6298 - acc: 0.6425 - val_loss: 0.6587 - val_acc: 0.6020\n",
            "Epoch 39/50\n",
            "200/200 - 19s - loss: 0.6219 - acc: 0.6490 - val_loss: 0.6593 - val_acc: 0.6020\n",
            "Epoch 40/50\n",
            "200/200 - 19s - loss: 0.6269 - acc: 0.6390 - val_loss: 0.7157 - val_acc: 0.5830\n",
            "Epoch 41/50\n",
            "200/200 - 19s - loss: 0.6264 - acc: 0.6540 - val_loss: 0.7320 - val_acc: 0.5830\n",
            "Epoch 42/50\n",
            "200/200 - 19s - loss: 0.6156 - acc: 0.6595 - val_loss: 0.7017 - val_acc: 0.5790\n",
            "Epoch 43/50\n",
            "200/200 - 19s - loss: 0.6199 - acc: 0.6365 - val_loss: 0.6732 - val_acc: 0.6100\n",
            "Epoch 44/50\n",
            "200/200 - 19s - loss: 0.6113 - acc: 0.6570 - val_loss: 0.6379 - val_acc: 0.6330\n",
            "Epoch 45/50\n",
            "200/200 - 19s - loss: 0.6136 - acc: 0.6635 - val_loss: 0.7961 - val_acc: 0.5840\n",
            "Epoch 46/50\n",
            "200/200 - 19s - loss: 0.6132 - acc: 0.6570 - val_loss: 0.7767 - val_acc: 0.5800\n",
            "Epoch 47/50\n",
            "200/200 - 19s - loss: 0.6064 - acc: 0.6550 - val_loss: 0.7220 - val_acc: 0.6030\n",
            "Epoch 48/50\n",
            "200/200 - 19s - loss: 0.6050 - acc: 0.6625 - val_loss: 0.6610 - val_acc: 0.6310\n",
            "Epoch 49/50\n",
            "200/200 - 20s - loss: 0.6212 - acc: 0.6510 - val_loss: 0.6395 - val_acc: 0.6300\n",
            "Epoch 50/50\n",
            "200/200 - 20s - loss: 0.6072 - acc: 0.6660 - val_loss: 0.7378 - val_acc: 0.5850\n"
          ],
          "name": "stdout"
        }
      ]
    },
    {
      "cell_type": "code",
      "metadata": {
        "id": "BvRYfceEhtMn",
        "colab_type": "code",
        "outputId": "05257cdc-89ee-498c-ab05-67c524250630",
        "colab": {
          "base_uri": "https://localhost:8080/",
          "height": 545
        }
      },
      "source": [
        "import matplotlib.pyplot as plt\n",
        "acc = history.history['acc']\n",
        "val_acc = history.history['val_acc']\n",
        "loss = history.history['loss']\n",
        "val_loss = history.history['val_loss']\n",
        "\n",
        "epochs = range(len(acc))\n",
        "\n",
        "plt.plot(epochs, acc, 'r', label='Training accuracy')\n",
        "plt.plot(epochs, val_acc, 'b', label='Validation accuracy')\n",
        "plt.title('Training and validation accuracy')\n",
        "\n",
        "plt.figure()\n",
        "\n",
        "plt.plot(epochs, loss, 'r', label='Training Loss')\n",
        "plt.plot(epochs, val_loss, 'b', label='Validation Loss')\n",
        "plt.title('Training and validation loss')\n",
        "plt.legend()\n",
        "\n",
        "plt.show()"
      ],
      "execution_count": 9,
      "outputs": [
        {
          "output_type": "display_data",
          "data": {
            "image/png": "[encoded data removed]",
            "text/plain": [
              "<Figure size 432x288 with 1 Axes>"
            ]
          },
          "metadata": {
            "tags": [],
            "needs_background": "light"
          }
        },
        {
          "output_type": "display_data",
          "data": {
            "image/png": "[encoded data removed]",
            "text/plain": [
              "<Figure size 432x288 with 1 Axes>"
            ]
          },
          "metadata": {
            "tags": [],
            "needs_background": "light"
          }
        }
      ]
    },
    {
      "cell_type": "markdown",
      "metadata": {
        "id": "gTaqwqBphwRa",
        "colab_type": "text"
      },
      "source": [
        "# Experimenting With AlexNet Architecture"
      ]
    },
    {
      "cell_type": "code",
      "metadata": {
        "id": "tK1oemGIhtxq",
        "colab_type": "code",
        "outputId": "8bd0d16e-018a-4b98-c881-dbe82b75eb0f",
        "colab": {
          "base_uri": "https://localhost:8080/",
          "height": 663
        }
      },
      "source": [
        "model2 = tf.keras.models.Sequential([\n",
        "                                    \n",
        "    tf.keras.layers.Conv2D(96, (11,11),strides = (4,4),activation='relu', input_shape=(150, 150, 3)),\n",
        "    tf.keras.layers.MaxPooling2D((3,3), strides=(2,2)),\n",
        "\n",
        "    tf.keras.layers.Conv2D(256, (5,5), padding = 'same', activation='relu'),\n",
        "    tf.keras.layers.MaxPooling2D((3,3), strides=(2,2)),\n",
        "\n",
        "    tf.keras.layers.Conv2D(384, (3,3),padding = 'same', activation='relu'),\n",
        "    tf.keras.layers.Conv2D(384, (3,3),padding = 'same', activation='relu'),\n",
        "    tf.keras.layers.Conv2D(256, (3,3),padding = 'same', activation='relu'),\n",
        "    tf.keras.layers.MaxPooling2D((3,3), strides=(2,2)),\n",
        "\n",
        "    tf.keras.layers.Flatten(),\n",
        "    tf.keras.layers.Dense(256, activation='relu'),\n",
        "    tf.keras.layers.Dense(128, activation='relu'),\n",
        "    tf.keras.layers.Dense(64, activation='relu'),\n",
        "    tf.keras.layers.Dense(32, activation='relu'),\n",
        "    tf.keras.layers.Dense(16, activation='relu'),\n",
        "    tf.keras.layers.Dense(1, activation='sigmoid')\n",
        "])\n",
        "\n",
        "model2.summary()"
      ],
      "execution_count": 10,
      "outputs": [
        {
          "output_type": "stream",
          "text": [
            "Model: \"sequential_1\"\n",
            "_________________________________________________________________\n",
            "Layer (type)                 Output Shape              Param #   \n",
            "=================================================================\n",
            "conv2d_5 (Conv2D)            (None, 35, 35, 96)        34944     \n",
            "_________________________________________________________________\n",
            "max_pooling2d_5 (MaxPooling2 (None, 17, 17, 96)        0         \n",
            "_________________________________________________________________\n",
            "conv2d_6 (Conv2D)            (None, 17, 17, 256)       614656    \n",
            "_________________________________________________________________\n",
            "max_pooling2d_6 (MaxPooling2 (None, 8, 8, 256)         0         \n",
            "_________________________________________________________________\n",
            "conv2d_7 (Conv2D)            (None, 8, 8, 384)         885120    \n",
            "_________________________________________________________________\n",
            "conv2d_8 (Conv2D)            (None, 8, 8, 384)         1327488   \n",
            "_________________________________________________________________\n",
            "conv2d_9 (Conv2D)            (None, 8, 8, 256)         884992    \n",
            "_________________________________________________________________\n",
            "max_pooling2d_7 (MaxPooling2 (None, 3, 3, 256)         0         \n",
            "_________________________________________________________________\n",
            "flatten_1 (Flatten)          (None, 2304)              0         \n",
            "_________________________________________________________________\n",
            "dense_4 (Dense)              (None, 256)               590080    \n",
            "_________________________________________________________________\n",
            "dense_5 (Dense)              (None, 128)               32896     \n",
            "_________________________________________________________________\n",
            "dense_6 (Dense)              (None, 64)                8256      \n",
            "_________________________________________________________________\n",
            "dense_7 (Dense)              (None, 32)                2080      \n",
            "_________________________________________________________________\n",
            "dense_8 (Dense)              (None, 16)                528       \n",
            "_________________________________________________________________\n",
            "dense_9 (Dense)              (None, 1)                 17        \n",
            "=================================================================\n",
            "Total params: 4,381,057\n",
            "Trainable params: 4,381,057\n",
            "Non-trainable params: 0\n",
            "_________________________________________________________________\n"
          ],
          "name": "stdout"
        }
      ]
    },
    {
      "cell_type": "code",
      "metadata": {
        "id": "2Ren6fcDlVmM",
        "colab_type": "code",
        "colab": {}
      },
      "source": [
        "model2.compile(loss='binary_crossentropy',\n",
        "              optimizer=RMSprop(lr=1e-4),\n",
        "              metrics=['acc'])"
      ],
      "execution_count": 0,
      "outputs": []
    },
    {
      "cell_type": "code",
      "metadata": {
        "id": "aMMM16uglQBa",
        "colab_type": "code",
        "outputId": "0b51afe3-68c4-4a60-eec2-46fe74163ba0",
        "colab": {
          "base_uri": "https://localhost:8080/",
          "height": 1000
        }
      },
      "source": [
        "# Training the Model\n",
        "history = model2.fit_generator(\n",
        "      train_generator,\n",
        "      steps_per_epoch=200,  # 2000 images = batch_size * steps\n",
        "      epochs=50,\n",
        "      validation_data=validation_generator,\n",
        "      validation_steps=100,  # 1000 images = batch_size * steps\n",
        "      verbose=2)"
      ],
      "execution_count": 12,
      "outputs": [
        {
          "output_type": "stream",
          "text": [
            "Epoch 1/50\n",
            "200/200 - 20s - loss: 0.6942 - acc: 0.5085 - val_loss: 0.6931 - val_acc: 0.4960\n",
            "Epoch 2/50\n",
            "200/200 - 20s - loss: 0.6943 - acc: 0.5100 - val_loss: 0.6931 - val_acc: 0.5000\n",
            "Epoch 3/50\n",
            "200/200 - 20s - loss: 0.6939 - acc: 0.5040 - val_loss: 0.6928 - val_acc: 0.5070\n",
            "Epoch 4/50\n",
            "200/200 - 20s - loss: 0.6933 - acc: 0.5125 - val_loss: 0.6908 - val_acc: 0.5270\n",
            "Epoch 5/50\n",
            "200/200 - 20s - loss: 0.6901 - acc: 0.5380 - val_loss: 0.6785 - val_acc: 0.5810\n",
            "Epoch 6/50\n",
            "200/200 - 20s - loss: 0.6868 - acc: 0.5525 - val_loss: 0.6914 - val_acc: 0.5320\n",
            "Epoch 7/50\n",
            "200/200 - 20s - loss: 0.6863 - acc: 0.5435 - val_loss: 0.6636 - val_acc: 0.6160\n",
            "Epoch 8/50\n",
            "200/200 - 20s - loss: 0.6860 - acc: 0.5470 - val_loss: 0.6668 - val_acc: 0.6280\n",
            "Epoch 9/50\n",
            "200/200 - 20s - loss: 0.6789 - acc: 0.5820 - val_loss: 0.6558 - val_acc: 0.5610\n",
            "Epoch 10/50\n",
            "200/200 - 20s - loss: 0.6734 - acc: 0.5775 - val_loss: 0.6609 - val_acc: 0.5600\n",
            "Epoch 11/50\n",
            "200/200 - 20s - loss: 0.6772 - acc: 0.5840 - val_loss: 0.6434 - val_acc: 0.6490\n",
            "Epoch 12/50\n",
            "200/200 - 20s - loss: 0.6749 - acc: 0.5725 - val_loss: 0.6786 - val_acc: 0.5220\n",
            "Epoch 13/50\n",
            "200/200 - 20s - loss: 0.6684 - acc: 0.6025 - val_loss: 0.6436 - val_acc: 0.6110\n",
            "Epoch 14/50\n",
            "200/200 - 20s - loss: 0.6735 - acc: 0.5870 - val_loss: 0.6615 - val_acc: 0.5240\n",
            "Epoch 15/50\n",
            "200/200 - 20s - loss: 0.6658 - acc: 0.5885 - val_loss: 0.6356 - val_acc: 0.6360\n",
            "Epoch 16/50\n",
            "200/200 - 20s - loss: 0.6617 - acc: 0.6005 - val_loss: 0.6099 - val_acc: 0.6740\n",
            "Epoch 17/50\n",
            "200/200 - 20s - loss: 0.6588 - acc: 0.6135 - val_loss: 0.6187 - val_acc: 0.6390\n",
            "Epoch 18/50\n",
            "200/200 - 20s - loss: 0.6612 - acc: 0.6150 - val_loss: 0.6137 - val_acc: 0.6570\n",
            "Epoch 19/50\n",
            "200/200 - 20s - loss: 0.6475 - acc: 0.6275 - val_loss: 0.6043 - val_acc: 0.6700\n",
            "Epoch 20/50\n",
            "200/200 - 20s - loss: 0.6501 - acc: 0.6280 - val_loss: 0.6229 - val_acc: 0.6680\n",
            "Epoch 21/50\n",
            "200/200 - 20s - loss: 0.6566 - acc: 0.6125 - val_loss: 0.6022 - val_acc: 0.6900\n",
            "Epoch 22/50\n",
            "200/200 - 20s - loss: 0.6356 - acc: 0.6545 - val_loss: 0.7097 - val_acc: 0.5750\n",
            "Epoch 23/50\n",
            "200/200 - 20s - loss: 0.6465 - acc: 0.6260 - val_loss: 0.6094 - val_acc: 0.6630\n",
            "Epoch 24/50\n",
            "200/200 - 20s - loss: 0.6351 - acc: 0.6545 - val_loss: 0.5939 - val_acc: 0.7060\n",
            "Epoch 25/50\n",
            "200/200 - 20s - loss: 0.6339 - acc: 0.6510 - val_loss: 0.7090 - val_acc: 0.5250\n",
            "Epoch 26/50\n",
            "200/200 - 20s - loss: 0.6333 - acc: 0.6435 - val_loss: 0.5892 - val_acc: 0.7080\n",
            "Epoch 27/50\n",
            "200/200 - 20s - loss: 0.6323 - acc: 0.6450 - val_loss: 0.5701 - val_acc: 0.6990\n",
            "Epoch 28/50\n",
            "200/200 - 20s - loss: 0.6295 - acc: 0.6485 - val_loss: 0.5722 - val_acc: 0.7010\n",
            "Epoch 29/50\n",
            "200/200 - 20s - loss: 0.6366 - acc: 0.6475 - val_loss: 0.6103 - val_acc: 0.6120\n",
            "Epoch 30/50\n",
            "200/200 - 19s - loss: 0.6306 - acc: 0.6550 - val_loss: 0.5782 - val_acc: 0.7080\n",
            "Epoch 31/50\n",
            "200/200 - 19s - loss: 0.6261 - acc: 0.6545 - val_loss: 0.5834 - val_acc: 0.7140\n",
            "Epoch 32/50\n",
            "200/200 - 19s - loss: 0.6207 - acc: 0.6700 - val_loss: 0.5722 - val_acc: 0.7050\n",
            "Epoch 33/50\n",
            "200/200 - 19s - loss: 0.6207 - acc: 0.6695 - val_loss: 0.5668 - val_acc: 0.7160\n",
            "Epoch 34/50\n",
            "200/200 - 19s - loss: 0.6230 - acc: 0.6670 - val_loss: 0.6161 - val_acc: 0.6330\n",
            "Epoch 35/50\n",
            "200/200 - 19s - loss: 0.6096 - acc: 0.6710 - val_loss: 0.5913 - val_acc: 0.6630\n",
            "Epoch 36/50\n",
            "200/200 - 19s - loss: 0.6157 - acc: 0.6765 - val_loss: 0.5962 - val_acc: 0.6800\n",
            "Epoch 37/50\n",
            "200/200 - 19s - loss: 0.6052 - acc: 0.6710 - val_loss: 0.5797 - val_acc: 0.7170\n",
            "Epoch 38/50\n",
            "200/200 - 19s - loss: 0.6293 - acc: 0.6630 - val_loss: 0.5697 - val_acc: 0.7180\n",
            "Epoch 39/50\n",
            "200/200 - 19s - loss: 0.6080 - acc: 0.6750 - val_loss: 0.5996 - val_acc: 0.6780\n",
            "Epoch 40/50\n",
            "200/200 - 19s - loss: 0.6163 - acc: 0.6735 - val_loss: 0.6122 - val_acc: 0.6100\n",
            "Epoch 41/50\n",
            "200/200 - 19s - loss: 0.6071 - acc: 0.6845 - val_loss: 0.5362 - val_acc: 0.7290\n",
            "Epoch 42/50\n",
            "200/200 - 19s - loss: 0.6119 - acc: 0.6875 - val_loss: 0.5631 - val_acc: 0.7210\n",
            "Epoch 43/50\n",
            "200/200 - 19s - loss: 0.5969 - acc: 0.6830 - val_loss: 0.5493 - val_acc: 0.7260\n",
            "Epoch 44/50\n",
            "200/200 - 19s - loss: 0.6027 - acc: 0.6910 - val_loss: 0.5547 - val_acc: 0.7460\n",
            "Epoch 45/50\n",
            "200/200 - 19s - loss: 0.5962 - acc: 0.6990 - val_loss: 0.5844 - val_acc: 0.6600\n",
            "Epoch 46/50\n",
            "200/200 - 19s - loss: 0.6212 - acc: 0.6805 - val_loss: 0.6960 - val_acc: 0.6520\n",
            "Epoch 47/50\n",
            "200/200 - 19s - loss: 0.6107 - acc: 0.6915 - val_loss: 0.5633 - val_acc: 0.7260\n",
            "Epoch 48/50\n",
            "200/200 - 19s - loss: 0.6114 - acc: 0.6865 - val_loss: 0.5550 - val_acc: 0.7280\n",
            "Epoch 49/50\n",
            "200/200 - 19s - loss: 0.5845 - acc: 0.7055 - val_loss: 0.5414 - val_acc: 0.7230\n",
            "Epoch 50/50\n",
            "200/200 - 19s - loss: 0.6056 - acc: 0.7055 - val_loss: 0.6048 - val_acc: 0.6580\n"
          ],
          "name": "stdout"
        }
      ]
    },
    {
      "cell_type": "code",
      "metadata": {
        "id": "EEvA_RgmnqIK",
        "colab_type": "code",
        "outputId": "81906670-b722-496c-82b0-ca7bf4104192",
        "colab": {
          "base_uri": "https://localhost:8080/",
          "height": 545
        }
      },
      "source": [
        "#Training and Testing Results with AlexNet Architecture and RMSProp Optimizer\n",
        "\n",
        "import matplotlib.pyplot as plt\n",
        "acc = history.history['acc']\n",
        "val_acc = history.history['val_acc']\n",
        "loss = history.history['loss']\n",
        "val_loss = history.history['val_loss']\n",
        "\n",
        "epochs = range(len(acc))\n",
        "\n",
        "plt.plot(epochs, acc, 'r', label='Training accuracy')\n",
        "plt.plot(epochs, val_acc, 'b', label='Validation accuracy')\n",
        "plt.title('Training and validation accuracy')\n",
        "\n",
        "plt.figure()\n",
        "\n",
        "plt.plot(epochs, loss, 'r', label='Training Loss')\n",
        "plt.plot(epochs, val_loss, 'b', label='Validation Loss')\n",
        "plt.title('Training and validation loss')\n",
        "plt.legend()\n",
        "\n",
        "plt.show()"
      ],
      "execution_count": 13,
      "outputs": [
        {
          "output_type": "display_data",
          "data": {
            "image/png": "[encoded data removed]",
            "text/plain": [
              "<Figure size 432x288 with 1 Axes>"
            ]
          },
          "metadata": {
            "tags": [],
            "needs_background": "light"
          }
        },
        {
          "output_type": "display_data",
          "data": {
            "image/png": "[encoded data removed]",
            "text/plain": [
              "<Figure size 432x288 with 1 Axes>"
            ]
          },
          "metadata": {
            "tags": [],
            "needs_background": "light"
          }
        }
      ]
    }
  ]
}