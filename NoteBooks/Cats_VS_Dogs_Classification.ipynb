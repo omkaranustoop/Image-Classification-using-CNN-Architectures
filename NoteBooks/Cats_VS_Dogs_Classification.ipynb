{
  "nbformat": 4,
  "nbformat_minor": 0,
  "metadata": {
    "colab": {
      "name": "Cats VS Dogs Classification.ipynb",
      "provenance": [],
      "collapsed_sections": []
    },
    "kernelspec": {
      "name": "python3",
      "display_name": "Python 3"
    }
  },
  "cells": [
    {
      "cell_type": "markdown",
      "metadata": {
        "id": "iXM5rGmrapt7",
        "colab_type": "text"
      },
      "source": [
        "# Getting the Dataset"
      ]
    },
    {
      "cell_type": "code",
      "metadata": {
        "id": "QPFVkdGHYpCi",
        "colab_type": "code",
        "outputId": "52f59c77-ebcc-44ba-bef0-73f45a95fcf7",
        "colab": {
          "base_uri": "https://localhost:8080/",
          "height": 204
        }
      },
      "source": [
        "!wget --no-check-certificate \\\n",
        "    https://storage.googleapis.com/mledu-datasets/cats_and_dogs_filtered.zip \\\n",
        "    -O /tmp/cats_and_dogs_filtered.zip"
      ],
      "execution_count": 1,
      "outputs": [
        {
          "output_type": "stream",
          "text": [
            "--2020-06-03 04:37:16--  https://storage.googleapis.com/mledu-datasets/cats_and_dogs_filtered.zip\n",
            "Resolving storage.googleapis.com (storage.googleapis.com)... 74.125.20.128, 2607:f8b0:400e:c09::80\n",
            "Connecting to storage.googleapis.com (storage.googleapis.com)|74.125.20.128|:443... connected.\n",
            "HTTP request sent, awaiting response... 200 OK\n",
            "Length: 68606236 (65M) [application/zip]\n",
            "Saving to: ‘/tmp/cats_and_dogs_filtered.zip’\n",
            "\n",
            "\r          /tmp/cats   0%[                    ]       0  --.-KB/s               \r         /tmp/cats_  12%[=>                  ]   8.01M  29.6MB/s               \r        /tmp/cats_a  58%[==========>         ]  37.97M  80.7MB/s               \r/tmp/cats_and_dogs_ 100%[===================>]  65.43M   106MB/s    in 0.6s    \n",
            "\n",
            "2020-06-03 04:37:17 (106 MB/s) - ‘/tmp/cats_and_dogs_filtered.zip’ saved [68606236/68606236]\n",
            "\n"
          ],
          "name": "stdout"
        }
      ]
    },
    {
      "cell_type": "markdown",
      "metadata": {
        "id": "heJGbaa3azL_",
        "colab_type": "text"
      },
      "source": [
        "# Creating Directories for Training and Validation"
      ]
    },
    {
      "cell_type": "code",
      "metadata": {
        "id": "bIvBBTrkaucn",
        "colab_type": "code",
        "colab": {}
      },
      "source": [
        "import os\n",
        "import zipfile\n",
        "import tensorflow as tf\n",
        "from tensorflow.keras.optimizers import RMSprop,Adam\n",
        "from tensorflow.keras.preprocessing.image import ImageDataGenerator\n",
        "\n",
        "local_zip = '/tmp/cats_and_dogs_filtered.zip'\n",
        "zip_ref = zipfile.ZipFile(local_zip, 'r')\n",
        "zip_ref.extractall('/tmp')\n",
        "zip_ref.close()\n",
        "\n",
        "base_dir = '/tmp/cats_and_dogs_filtered'\n",
        "train_dir = os.path.join(base_dir, 'train')\n",
        "validation_dir = os.path.join(base_dir, 'validation')\n",
        "\n",
        "# Directory with our training cat pictures\n",
        "train_cats_dir = os.path.join(train_dir, 'cats')\n",
        "\n",
        "# Directory with our training dog pictures\n",
        "train_dogs_dir = os.path.join(train_dir, 'dogs')\n",
        "\n",
        "# Directory with our validation cat pictures\n",
        "validation_cats_dir = os.path.join(validation_dir, 'cats')\n",
        "\n",
        "# Directory with our validation dog pictures\n",
        "validation_dogs_dir = os.path.join(validation_dir, 'dogs')\n"
      ],
      "execution_count": 0,
      "outputs": []
    },
    {
      "cell_type": "markdown",
      "metadata": {
        "id": "t-pAvTd1eB9N",
        "colab_type": "text"
      },
      "source": [
        "# Building a Sequential Model"
      ]
    },
    {
      "cell_type": "code",
      "metadata": {
        "id": "tqVX0Pdua-u7",
        "colab_type": "code",
        "colab": {
          "base_uri": "https://localhost:8080/",
          "height": 765
        },
        "outputId": "c858e0c1-4641-473f-b01f-ec130b50c290"
      },
      "source": [
        "model = tf.keras.models.Sequential([\n",
        "                                    \n",
        "    tf.keras.layers.Conv2D(32, (3,3), activation='relu', input_shape=(150, 150, 3)),\n",
        "    tf.keras.layers.MaxPooling2D(2, 2),\n",
        "    tf.keras.layers.Dropout(0.4),\n",
        "\n",
        "    tf.keras.layers.Conv2D(64, (3,3), activation='relu'),\n",
        "    tf.keras.layers.MaxPooling2D(2,2),\n",
        "    tf.keras.layers.Dropout(0.3),\n",
        "\n",
        "    tf.keras.layers.Conv2D(128, (3,3), activation='relu'),\n",
        "    tf.keras.layers.MaxPooling2D(2,2),\n",
        "    tf.keras.layers.Dropout(0.2),\n",
        "\n",
        "    tf.keras.layers.Conv2D(256, (3,3), activation='relu'),\n",
        "    tf.keras.layers.MaxPooling2D(2,2),\n",
        "\n",
        "    tf.keras.layers.Flatten(),\n",
        "    tf.keras.layers.Dense(256, activation='relu'),\n",
        "    tf.keras.layers.Dense(128, activation='relu'),\n",
        "    tf.keras.layers.Dense(64, activation='relu'),\n",
        "    tf.keras.layers.Dense(32, activation='relu'),\n",
        "    tf.keras.layers.Dense(16, activation='relu'),\n",
        "    tf.keras.layers.Dense(1, activation='sigmoid')\n",
        "])\n",
        "\n",
        "model.summary()"
      ],
      "execution_count": 5,
      "outputs": [
        {
          "output_type": "stream",
          "text": [
            "Model: \"sequential\"\n",
            "_________________________________________________________________\n",
            "Layer (type)                 Output Shape              Param #   \n",
            "=================================================================\n",
            "conv2d_4 (Conv2D)            (None, 148, 148, 32)      896       \n",
            "_________________________________________________________________\n",
            "max_pooling2d_4 (MaxPooling2 (None, 74, 74, 32)        0         \n",
            "_________________________________________________________________\n",
            "dropout_3 (Dropout)          (None, 74, 74, 32)        0         \n",
            "_________________________________________________________________\n",
            "conv2d_5 (Conv2D)            (None, 72, 72, 64)        18496     \n",
            "_________________________________________________________________\n",
            "max_pooling2d_5 (MaxPooling2 (None, 36, 36, 64)        0         \n",
            "_________________________________________________________________\n",
            "dropout_4 (Dropout)          (None, 36, 36, 64)        0         \n",
            "_________________________________________________________________\n",
            "conv2d_6 (Conv2D)            (None, 34, 34, 128)       73856     \n",
            "_________________________________________________________________\n",
            "max_pooling2d_6 (MaxPooling2 (None, 17, 17, 128)       0         \n",
            "_________________________________________________________________\n",
            "dropout_5 (Dropout)          (None, 17, 17, 128)       0         \n",
            "_________________________________________________________________\n",
            "conv2d_7 (Conv2D)            (None, 15, 15, 256)       295168    \n",
            "_________________________________________________________________\n",
            "max_pooling2d_7 (MaxPooling2 (None, 7, 7, 256)         0         \n",
            "_________________________________________________________________\n",
            "flatten_1 (Flatten)          (None, 12544)             0         \n",
            "_________________________________________________________________\n",
            "dense_4 (Dense)              (None, 256)               3211520   \n",
            "_________________________________________________________________\n",
            "dense_5 (Dense)              (None, 128)               32896     \n",
            "_________________________________________________________________\n",
            "dense_6 (Dense)              (None, 64)                8256      \n",
            "_________________________________________________________________\n",
            "dense_7 (Dense)              (None, 32)                2080      \n",
            "_________________________________________________________________\n",
            "dense_8 (Dense)              (None, 16)                528       \n",
            "_________________________________________________________________\n",
            "dense_9 (Dense)              (None, 1)                 17        \n",
            "=================================================================\n",
            "Total params: 3,643,713\n",
            "Trainable params: 3,643,713\n",
            "Non-trainable params: 0\n",
            "_________________________________________________________________\n"
          ],
          "name": "stdout"
        }
      ]
    },
    {
      "cell_type": "markdown",
      "metadata": {
        "id": "SuSjWduuf4dD",
        "colab_type": "text"
      },
      "source": [
        "# Setting an Optimizer and training the model"
      ]
    },
    {
      "cell_type": "code",
      "metadata": {
        "id": "-0CMTxz2ftvp",
        "colab_type": "code",
        "colab": {}
      },
      "source": [
        "# Getting Adadelta Optimizer\n",
        "adam = tf.keras.optimizers.Adadelta(learning_rate=0.00001, rho=0.95)"
      ],
      "execution_count": 0,
      "outputs": []
    },
    {
      "cell_type": "code",
      "metadata": {
        "id": "BO-Ba8MygG22",
        "colab_type": "code",
        "colab": {}
      },
      "source": [
        "model.compile(loss='binary_crossentropy',\n",
        "              optimizer=adam,\n",
        "              metrics=['acc'])"
      ],
      "execution_count": 0,
      "outputs": []
    },
    {
      "cell_type": "code",
      "metadata": {
        "id": "UYw192cKgQrw",
        "colab_type": "code",
        "colab": {
          "base_uri": "https://localhost:8080/",
          "height": 51
        },
        "outputId": "7eb1f442-f61b-4283-b268-d578f522905d"
      },
      "source": [
        "#Using ImageDataGenerator to generate training and Validation sets\n",
        "train_datagen = ImageDataGenerator(rescale=1./255)\n",
        "test_datagen = ImageDataGenerator(rescale=1./255)\n",
        "\n",
        "# Flow training images in batches of 20 using train_datagen generator\n",
        "train_generator = train_datagen.flow_from_directory(\n",
        "        train_dir,  # This is the source directory for training images\n",
        "        target_size=(150, 150),  # All images will be resized to 150x150\n",
        "        batch_size=10,\n",
        "        # Since we use binary_crossentropy loss, we need binary labels\n",
        "        class_mode='binary')\n",
        "\n",
        "# Flow validation images in batches of 20 using test_datagen generator\n",
        "validation_generator = test_datagen.flow_from_directory(\n",
        "        validation_dir,\n",
        "        target_size=(150, 150),\n",
        "        batch_size=10,\n",
        "        class_mode='binary')"
      ],
      "execution_count": 8,
      "outputs": [
        {
          "output_type": "stream",
          "text": [
            "Found 2000 images belonging to 2 classes.\n",
            "Found 1000 images belonging to 2 classes.\n"
          ],
          "name": "stdout"
        }
      ]
    },
    {
      "cell_type": "code",
      "metadata": {
        "id": "6GIvcwdxgaJ5",
        "colab_type": "code",
        "colab": {
          "base_uri": "https://localhost:8080/",
          "height": 1000
        },
        "outputId": "bb4b77a4-9073-4fea-d0e0-dc16d7e78817"
      },
      "source": [
        "# Training the Model\n",
        "history = model.fit_generator(\n",
        "      train_generator,\n",
        "      steps_per_epoch=200,  # 2000 images = batch_size * steps\n",
        "      epochs=50,\n",
        "      validation_data=validation_generator,\n",
        "      validation_steps=100,  # 1000 images = batch_size * steps\n",
        "      verbose=2)"
      ],
      "execution_count": 10,
      "outputs": [
        {
          "output_type": "stream",
          "text": [
            "Epoch 1/50\n",
            "200/200 - 8s - loss: 0.6928 - acc: 0.5065 - val_loss: 0.6933 - val_acc: 0.5010\n",
            "Epoch 2/50\n",
            "200/200 - 8s - loss: 0.6931 - acc: 0.5065 - val_loss: 0.6933 - val_acc: 0.5020\n",
            "Epoch 3/50\n",
            "200/200 - 8s - loss: 0.6926 - acc: 0.5110 - val_loss: 0.6933 - val_acc: 0.5000\n",
            "Epoch 4/50\n",
            "200/200 - 8s - loss: 0.6929 - acc: 0.5195 - val_loss: 0.6933 - val_acc: 0.5010\n",
            "Epoch 5/50\n",
            "200/200 - 8s - loss: 0.6929 - acc: 0.4990 - val_loss: 0.6933 - val_acc: 0.4990\n",
            "Epoch 6/50\n",
            "200/200 - 8s - loss: 0.6928 - acc: 0.5205 - val_loss: 0.6933 - val_acc: 0.5000\n",
            "Epoch 7/50\n",
            "200/200 - 8s - loss: 0.6929 - acc: 0.5130 - val_loss: 0.6933 - val_acc: 0.5000\n",
            "Epoch 8/50\n",
            "200/200 - 8s - loss: 0.6929 - acc: 0.5070 - val_loss: 0.6933 - val_acc: 0.5020\n",
            "Epoch 9/50\n",
            "200/200 - 8s - loss: 0.6929 - acc: 0.5190 - val_loss: 0.6933 - val_acc: 0.5070\n",
            "Epoch 10/50\n",
            "200/200 - 8s - loss: 0.6930 - acc: 0.5180 - val_loss: 0.6933 - val_acc: 0.5060\n",
            "Epoch 11/50\n",
            "200/200 - 8s - loss: 0.6928 - acc: 0.5130 - val_loss: 0.6933 - val_acc: 0.5080\n",
            "Epoch 12/50\n",
            "200/200 - 8s - loss: 0.6929 - acc: 0.5120 - val_loss: 0.6933 - val_acc: 0.5060\n",
            "Epoch 13/50\n",
            "200/200 - 8s - loss: 0.6925 - acc: 0.5040 - val_loss: 0.6933 - val_acc: 0.5010\n",
            "Epoch 14/50\n",
            "200/200 - 8s - loss: 0.6927 - acc: 0.5070 - val_loss: 0.6933 - val_acc: 0.5070\n",
            "Epoch 15/50\n",
            "200/200 - 8s - loss: 0.6926 - acc: 0.5155 - val_loss: 0.6933 - val_acc: 0.5070\n",
            "Epoch 16/50\n",
            "200/200 - 8s - loss: 0.6930 - acc: 0.5100 - val_loss: 0.6933 - val_acc: 0.5080\n",
            "Epoch 17/50\n",
            "200/200 - 8s - loss: 0.6927 - acc: 0.5115 - val_loss: 0.6933 - val_acc: 0.5120\n",
            "Epoch 18/50\n",
            "200/200 - 8s - loss: 0.6928 - acc: 0.5145 - val_loss: 0.6933 - val_acc: 0.5140\n",
            "Epoch 19/50\n",
            "200/200 - 8s - loss: 0.6931 - acc: 0.5095 - val_loss: 0.6933 - val_acc: 0.5110\n",
            "Epoch 20/50\n",
            "200/200 - 8s - loss: 0.6926 - acc: 0.5155 - val_loss: 0.6933 - val_acc: 0.5080\n",
            "Epoch 21/50\n",
            "200/200 - 8s - loss: 0.6930 - acc: 0.5140 - val_loss: 0.6933 - val_acc: 0.5090\n",
            "Epoch 22/50\n",
            "200/200 - 8s - loss: 0.6929 - acc: 0.5125 - val_loss: 0.6933 - val_acc: 0.5100\n",
            "Epoch 23/50\n",
            "200/200 - 8s - loss: 0.6926 - acc: 0.5115 - val_loss: 0.6932 - val_acc: 0.5190\n",
            "Epoch 24/50\n",
            "200/200 - 8s - loss: 0.6927 - acc: 0.5215 - val_loss: 0.6932 - val_acc: 0.5230\n",
            "Epoch 25/50\n",
            "200/200 - 8s - loss: 0.6930 - acc: 0.5120 - val_loss: 0.6932 - val_acc: 0.5230\n",
            "Epoch 26/50\n",
            "200/200 - 8s - loss: 0.6927 - acc: 0.5285 - val_loss: 0.6932 - val_acc: 0.5180\n",
            "Epoch 27/50\n",
            "200/200 - 8s - loss: 0.6927 - acc: 0.5205 - val_loss: 0.6932 - val_acc: 0.5160\n",
            "Epoch 28/50\n",
            "200/200 - 8s - loss: 0.6926 - acc: 0.5170 - val_loss: 0.6932 - val_acc: 0.5160\n",
            "Epoch 29/50\n",
            "200/200 - 8s - loss: 0.6925 - acc: 0.5120 - val_loss: 0.6932 - val_acc: 0.5190\n",
            "Epoch 30/50\n",
            "200/200 - 8s - loss: 0.6925 - acc: 0.5370 - val_loss: 0.6932 - val_acc: 0.5210\n",
            "Epoch 31/50\n",
            "200/200 - 8s - loss: 0.6927 - acc: 0.5190 - val_loss: 0.6932 - val_acc: 0.5250\n",
            "Epoch 32/50\n",
            "200/200 - 8s - loss: 0.6928 - acc: 0.5130 - val_loss: 0.6932 - val_acc: 0.5240\n",
            "Epoch 33/50\n",
            "200/200 - 8s - loss: 0.6929 - acc: 0.5240 - val_loss: 0.6932 - val_acc: 0.5260\n",
            "Epoch 34/50\n",
            "200/200 - 8s - loss: 0.6922 - acc: 0.5185 - val_loss: 0.6932 - val_acc: 0.5260\n",
            "Epoch 35/50\n",
            "200/200 - 8s - loss: 0.6928 - acc: 0.5150 - val_loss: 0.6932 - val_acc: 0.5270\n",
            "Epoch 36/50\n",
            "200/200 - 8s - loss: 0.6925 - acc: 0.5330 - val_loss: 0.6932 - val_acc: 0.5260\n",
            "Epoch 37/50\n",
            "200/200 - 8s - loss: 0.6923 - acc: 0.5235 - val_loss: 0.6932 - val_acc: 0.5310\n",
            "Epoch 38/50\n",
            "200/200 - 8s - loss: 0.6925 - acc: 0.5295 - val_loss: 0.6932 - val_acc: 0.5290\n",
            "Epoch 39/50\n",
            "200/200 - 8s - loss: 0.6924 - acc: 0.5325 - val_loss: 0.6932 - val_acc: 0.5280\n",
            "Epoch 40/50\n",
            "200/200 - 8s - loss: 0.6925 - acc: 0.5310 - val_loss: 0.6932 - val_acc: 0.5270\n",
            "Epoch 41/50\n",
            "200/200 - 8s - loss: 0.6928 - acc: 0.5360 - val_loss: 0.6932 - val_acc: 0.5280\n",
            "Epoch 42/50\n",
            "200/200 - 8s - loss: 0.6928 - acc: 0.5125 - val_loss: 0.6932 - val_acc: 0.5320\n",
            "Epoch 43/50\n",
            "200/200 - 8s - loss: 0.6925 - acc: 0.5250 - val_loss: 0.6932 - val_acc: 0.5290\n",
            "Epoch 44/50\n",
            "200/200 - 8s - loss: 0.6925 - acc: 0.5265 - val_loss: 0.6932 - val_acc: 0.5280\n",
            "Epoch 45/50\n",
            "200/200 - 8s - loss: 0.6927 - acc: 0.5175 - val_loss: 0.6932 - val_acc: 0.5260\n",
            "Epoch 46/50\n",
            "200/200 - 8s - loss: 0.6928 - acc: 0.5250 - val_loss: 0.6932 - val_acc: 0.5250\n",
            "Epoch 47/50\n",
            "200/200 - 8s - loss: 0.6926 - acc: 0.5215 - val_loss: 0.6932 - val_acc: 0.5240\n",
            "Epoch 48/50\n",
            "200/200 - 8s - loss: 0.6925 - acc: 0.5235 - val_loss: 0.6932 - val_acc: 0.5240\n",
            "Epoch 49/50\n",
            "200/200 - 8s - loss: 0.6925 - acc: 0.5315 - val_loss: 0.6932 - val_acc: 0.5210\n",
            "Epoch 50/50\n",
            "200/200 - 8s - loss: 0.6925 - acc: 0.5205 - val_loss: 0.6932 - val_acc: 0.5240\n"
          ],
          "name": "stdout"
        }
      ]
    },
    {
      "cell_type": "code",
      "metadata": {
        "id": "BvRYfceEhtMn",
        "colab_type": "code",
        "colab": {
          "base_uri": "https://localhost:8080/",
          "height": 545
        },
        "outputId": "3bd6af76-ac74-4a5b-eb7b-4535afe508c9"
      },
      "source": [
        "import matplotlib.pyplot as plt\n",
        "acc = history.history['acc']\n",
        "val_acc = history.history['val_acc']\n",
        "loss = history.history['loss']\n",
        "val_loss = history.history['val_loss']\n",
        "\n",
        "epochs = range(len(acc))\n",
        "\n",
        "plt.plot(epochs, acc, 'r', label='Training accuracy')\n",
        "plt.plot(epochs, val_acc, 'b', label='Validation accuracy')\n",
        "plt.title('Training and validation accuracy')\n",
        "\n",
        "plt.figure()\n",
        "\n",
        "plt.plot(epochs, loss, 'r', label='Training Loss')\n",
        "plt.plot(epochs, val_loss, 'b', label='Validation Loss')\n",
        "plt.title('Training and validation loss')\n",
        "plt.legend()\n",
        "\n",
        "plt.show()"
      ],
      "execution_count": 12,
      "outputs": [
        {
          "output_type": "display_data",
          "data": {
            "image/png": "[encoded data removed]",
            "text/plain": [
              "<Figure size 432x288 with 1 Axes>"
            ]
          },
          "metadata": {
            "tags": [],
            "needs_background": "light"
          }
        },
        {
          "output_type": "display_data",
          "data": {
            "image/png": "[encoded data removed]",
            "text/plain": [
              "<Figure size 432x288 with 1 Axes>"
            ]
          },
          "metadata": {
            "tags": [],
            "needs_background": "light"
          }
        }
      ]
    },
    {
      "cell_type": "markdown",
      "metadata": {
        "id": "gTaqwqBphwRa",
        "colab_type": "text"
      },
      "source": [
        "# Experimenting With AlexNet Architecture"
      ]
    },
    {
      "cell_type": "code",
      "metadata": {
        "id": "tK1oemGIhtxq",
        "colab_type": "code",
        "colab": {
          "base_uri": "https://localhost:8080/",
          "height": 663
        },
        "outputId": "cef8eb60-7158-4ce6-e4b8-7b0e51fd3d5f"
      },
      "source": [
        "model2 = tf.keras.models.Sequential([\n",
        "                                    \n",
        "    tf.keras.layers.Conv2D(96, (11,11),strides = (4,4),activation='relu', input_shape=(150, 150, 3)),\n",
        "    tf.keras.layers.MaxPooling2D((3,3), strides=(2,2)),\n",
        "\n",
        "    tf.keras.layers.Conv2D(256, (5,5), padding = 'same', activation='relu'),\n",
        "    tf.keras.layers.MaxPooling2D((3,3), strides=(2,2)),\n",
        "\n",
        "    tf.keras.layers.Conv2D(384, (3,3),padding = 'same', activation='relu'),\n",
        "    tf.keras.layers.Conv2D(384, (3,3),padding = 'same', activation='relu'),\n",
        "    tf.keras.layers.Conv2D(256, (3,3),padding = 'same', activation='relu'),\n",
        "    tf.keras.layers.MaxPooling2D((3,3), strides=(2,2)),\n",
        "\n",
        "    tf.keras.layers.Flatten(),\n",
        "    tf.keras.layers.Dense(256, activation='relu'),\n",
        "    tf.keras.layers.Dense(128, activation='relu'),\n",
        "    tf.keras.layers.Dense(64, activation='relu'),\n",
        "    tf.keras.layers.Dense(32, activation='relu'),\n",
        "    tf.keras.layers.Dense(16, activation='relu'),\n",
        "    tf.keras.layers.Dense(1, activation='sigmoid')\n",
        "])\n",
        "\n",
        "model2.summary()"
      ],
      "execution_count": 15,
      "outputs": [
        {
          "output_type": "stream",
          "text": [
            "Model: \"sequential_2\"\n",
            "_________________________________________________________________\n",
            "Layer (type)                 Output Shape              Param #   \n",
            "=================================================================\n",
            "conv2d_13 (Conv2D)           (None, 35, 35, 96)        34944     \n",
            "_________________________________________________________________\n",
            "max_pooling2d_11 (MaxPooling (None, 17, 17, 96)        0         \n",
            "_________________________________________________________________\n",
            "conv2d_14 (Conv2D)           (None, 17, 17, 256)       614656    \n",
            "_________________________________________________________________\n",
            "max_pooling2d_12 (MaxPooling (None, 8, 8, 256)         0         \n",
            "_________________________________________________________________\n",
            "conv2d_15 (Conv2D)           (None, 8, 8, 384)         885120    \n",
            "_________________________________________________________________\n",
            "conv2d_16 (Conv2D)           (None, 8, 8, 384)         1327488   \n",
            "_________________________________________________________________\n",
            "conv2d_17 (Conv2D)           (None, 8, 8, 256)         884992    \n",
            "_________________________________________________________________\n",
            "max_pooling2d_13 (MaxPooling (None, 3, 3, 256)         0         \n",
            "_________________________________________________________________\n",
            "flatten_3 (Flatten)          (None, 2304)              0         \n",
            "_________________________________________________________________\n",
            "dense_16 (Dense)             (None, 256)               590080    \n",
            "_________________________________________________________________\n",
            "dense_17 (Dense)             (None, 128)               32896     \n",
            "_________________________________________________________________\n",
            "dense_18 (Dense)             (None, 64)                8256      \n",
            "_________________________________________________________________\n",
            "dense_19 (Dense)             (None, 32)                2080      \n",
            "_________________________________________________________________\n",
            "dense_20 (Dense)             (None, 16)                528       \n",
            "_________________________________________________________________\n",
            "dense_21 (Dense)             (None, 1)                 17        \n",
            "=================================================================\n",
            "Total params: 4,381,057\n",
            "Trainable params: 4,381,057\n",
            "Non-trainable params: 0\n",
            "_________________________________________________________________\n"
          ],
          "name": "stdout"
        }
      ]
    },
    {
      "cell_type": "code",
      "metadata": {
        "id": "2Ren6fcDlVmM",
        "colab_type": "code",
        "colab": {}
      },
      "source": [
        "model2.compile(loss='binary_crossentropy',\n",
        "              optimizer=RMSprop(lr=1e-4),\n",
        "              metrics=['acc'])"
      ],
      "execution_count": 0,
      "outputs": []
    },
    {
      "cell_type": "code",
      "metadata": {
        "id": "aMMM16uglQBa",
        "colab_type": "code",
        "colab": {
          "base_uri": "https://localhost:8080/",
          "height": 1000
        },
        "outputId": "619a4144-c6c9-4c77-df62-0f55e8caa4d7"
      },
      "source": [
        "# Training the Model\n",
        "history = model2.fit_generator(\n",
        "      train_generator,\n",
        "      steps_per_epoch=200,  # 2000 images = batch_size * steps\n",
        "      epochs=50,\n",
        "      validation_data=validation_generator,\n",
        "      validation_steps=100,  # 1000 images = batch_size * steps\n",
        "      verbose=2)"
      ],
      "execution_count": 21,
      "outputs": [
        {
          "output_type": "stream",
          "text": [
            "Epoch 1/50\n",
            "200/200 - 8s - loss: 0.7002 - acc: 0.4950 - val_loss: 0.6908 - val_acc: 0.5000\n",
            "Epoch 2/50\n",
            "200/200 - 8s - loss: 0.6938 - acc: 0.5035 - val_loss: 0.6882 - val_acc: 0.5880\n",
            "Epoch 3/50\n",
            "200/200 - 8s - loss: 0.6862 - acc: 0.5650 - val_loss: 0.6768 - val_acc: 0.5730\n",
            "Epoch 4/50\n",
            "200/200 - 8s - loss: 0.6753 - acc: 0.5995 - val_loss: 0.6442 - val_acc: 0.6300\n",
            "Epoch 5/50\n",
            "200/200 - 8s - loss: 0.6196 - acc: 0.6530 - val_loss: 0.6296 - val_acc: 0.6760\n",
            "Epoch 6/50\n",
            "200/200 - 8s - loss: 0.5793 - acc: 0.7115 - val_loss: 0.6768 - val_acc: 0.6210\n",
            "Epoch 7/50\n",
            "200/200 - 8s - loss: 0.5313 - acc: 0.7465 - val_loss: 0.5828 - val_acc: 0.6960\n",
            "Epoch 8/50\n",
            "200/200 - 8s - loss: 0.4718 - acc: 0.7755 - val_loss: 0.6939 - val_acc: 0.6740\n",
            "Epoch 9/50\n",
            "200/200 - 8s - loss: 0.4413 - acc: 0.7940 - val_loss: 0.6941 - val_acc: 0.7160\n",
            "Epoch 10/50\n",
            "200/200 - 8s - loss: 0.3909 - acc: 0.8335 - val_loss: 0.5820 - val_acc: 0.7230\n",
            "Epoch 11/50\n",
            "200/200 - 8s - loss: 0.3119 - acc: 0.8675 - val_loss: 0.7366 - val_acc: 0.6960\n",
            "Epoch 12/50\n",
            "200/200 - 8s - loss: 0.2946 - acc: 0.8655 - val_loss: 0.6268 - val_acc: 0.7230\n",
            "Epoch 13/50\n",
            "200/200 - 8s - loss: 0.2429 - acc: 0.8975 - val_loss: 0.6590 - val_acc: 0.7440\n",
            "Epoch 14/50\n",
            "200/200 - 8s - loss: 0.2185 - acc: 0.9060 - val_loss: 0.7944 - val_acc: 0.7330\n",
            "Epoch 15/50\n",
            "200/200 - 8s - loss: 0.1968 - acc: 0.9215 - val_loss: 0.8809 - val_acc: 0.7190\n",
            "Epoch 16/50\n",
            "200/200 - 8s - loss: 0.1685 - acc: 0.9300 - val_loss: 0.8362 - val_acc: 0.7300\n",
            "Epoch 17/50\n",
            "200/200 - 8s - loss: 0.1467 - acc: 0.9475 - val_loss: 1.3138 - val_acc: 0.7100\n",
            "Epoch 18/50\n",
            "200/200 - 8s - loss: 0.1257 - acc: 0.9565 - val_loss: 1.1288 - val_acc: 0.7390\n",
            "Epoch 19/50\n",
            "200/200 - 8s - loss: 0.1066 - acc: 0.9645 - val_loss: 1.3149 - val_acc: 0.7210\n",
            "Epoch 20/50\n",
            "200/200 - 8s - loss: 0.1261 - acc: 0.9580 - val_loss: 0.9891 - val_acc: 0.7350\n",
            "Epoch 21/50\n",
            "200/200 - 8s - loss: 0.1101 - acc: 0.9585 - val_loss: 1.2043 - val_acc: 0.6990\n",
            "Epoch 22/50\n",
            "200/200 - 8s - loss: 0.0931 - acc: 0.9685 - val_loss: 1.3666 - val_acc: 0.7300\n",
            "Epoch 23/50\n",
            "200/200 - 8s - loss: 0.0778 - acc: 0.9715 - val_loss: 1.4479 - val_acc: 0.7080\n",
            "Epoch 24/50\n",
            "200/200 - 8s - loss: 0.0829 - acc: 0.9770 - val_loss: 1.0751 - val_acc: 0.7410\n",
            "Epoch 25/50\n",
            "200/200 - 8s - loss: 0.0778 - acc: 0.9785 - val_loss: 1.3987 - val_acc: 0.7340\n",
            "Epoch 26/50\n",
            "200/200 - 8s - loss: 0.0859 - acc: 0.9735 - val_loss: 1.3563 - val_acc: 0.7110\n",
            "Epoch 27/50\n",
            "200/200 - 8s - loss: 0.0717 - acc: 0.9785 - val_loss: 1.5900 - val_acc: 0.7200\n",
            "Epoch 28/50\n",
            "200/200 - 8s - loss: 0.0695 - acc: 0.9720 - val_loss: 1.2551 - val_acc: 0.7470\n",
            "Epoch 29/50\n",
            "200/200 - 8s - loss: 0.0646 - acc: 0.9765 - val_loss: 2.0840 - val_acc: 0.7280\n",
            "Epoch 30/50\n",
            "200/200 - 8s - loss: 0.0616 - acc: 0.9790 - val_loss: 1.5607 - val_acc: 0.7480\n",
            "Epoch 31/50\n",
            "200/200 - 8s - loss: 0.0642 - acc: 0.9800 - val_loss: 1.9943 - val_acc: 0.7210\n",
            "Epoch 32/50\n",
            "200/200 - 8s - loss: 0.0788 - acc: 0.9795 - val_loss: 1.1181 - val_acc: 0.7370\n",
            "Epoch 33/50\n",
            "200/200 - 8s - loss: 0.0543 - acc: 0.9815 - val_loss: 2.3511 - val_acc: 0.7200\n",
            "Epoch 34/50\n",
            "200/200 - 8s - loss: 0.0570 - acc: 0.9880 - val_loss: 1.4873 - val_acc: 0.7470\n",
            "Epoch 35/50\n",
            "200/200 - 8s - loss: 0.0512 - acc: 0.9885 - val_loss: 2.1338 - val_acc: 0.7240\n",
            "Epoch 36/50\n",
            "200/200 - 8s - loss: 0.0605 - acc: 0.9810 - val_loss: 1.1764 - val_acc: 0.7220\n",
            "Epoch 37/50\n",
            "200/200 - 8s - loss: 0.0635 - acc: 0.9850 - val_loss: 1.6798 - val_acc: 0.7510\n",
            "Epoch 38/50\n",
            "200/200 - 8s - loss: 0.0843 - acc: 0.9860 - val_loss: 1.7887 - val_acc: 0.7500\n",
            "Epoch 39/50\n",
            "200/200 - 8s - loss: 0.0521 - acc: 0.9910 - val_loss: 2.6730 - val_acc: 0.7400\n",
            "Epoch 40/50\n",
            "200/200 - 8s - loss: 0.0712 - acc: 0.9830 - val_loss: 2.4964 - val_acc: 0.7160\n",
            "Epoch 41/50\n",
            "200/200 - 8s - loss: 0.0466 - acc: 0.9845 - val_loss: 3.0255 - val_acc: 0.6990\n",
            "Epoch 42/50\n",
            "200/200 - 8s - loss: 0.0661 - acc: 0.9865 - val_loss: 2.6078 - val_acc: 0.7290\n",
            "Epoch 43/50\n",
            "200/200 - 8s - loss: 0.0623 - acc: 0.9860 - val_loss: 1.8741 - val_acc: 0.7550\n",
            "Epoch 44/50\n",
            "200/200 - 8s - loss: 0.0365 - acc: 0.9920 - val_loss: 2.6447 - val_acc: 0.7720\n",
            "Epoch 45/50\n",
            "200/200 - 8s - loss: 0.0464 - acc: 0.9910 - val_loss: 3.3227 - val_acc: 0.7620\n",
            "Epoch 46/50\n",
            "200/200 - 8s - loss: 0.0743 - acc: 0.9855 - val_loss: 2.6952 - val_acc: 0.7510\n",
            "Epoch 47/50\n",
            "200/200 - 8s - loss: 0.0724 - acc: 0.9850 - val_loss: 2.3142 - val_acc: 0.7720\n",
            "Epoch 48/50\n",
            "200/200 - 8s - loss: 0.0625 - acc: 0.9875 - val_loss: 3.4515 - val_acc: 0.7230\n",
            "Epoch 49/50\n",
            "200/200 - 8s - loss: 0.0691 - acc: 0.9820 - val_loss: 1.3608 - val_acc: 0.7500\n",
            "Epoch 50/50\n",
            "200/200 - 8s - loss: 0.0631 - acc: 0.9835 - val_loss: 2.1511 - val_acc: 0.7610\n"
          ],
          "name": "stdout"
        }
      ]
    },
    {
      "cell_type": "code",
      "metadata": {
        "id": "EEvA_RgmnqIK",
        "colab_type": "code",
        "colab": {
          "base_uri": "https://localhost:8080/",
          "height": 545
        },
        "outputId": "8fb0f38c-b312-444f-87e9-096fdc2d2dc4"
      },
      "source": [
        "#Training and Testing Results with AlexNet Architecture and RMSProp Optimizer\n",
        "\n",
        "import matplotlib.pyplot as plt\n",
        "acc = history.history['acc']\n",
        "val_acc = history.history['val_acc']\n",
        "loss = history.history['loss']\n",
        "val_loss = history.history['val_loss']\n",
        "\n",
        "epochs = range(len(acc))\n",
        "\n",
        "plt.plot(epochs, acc, 'r', label='Training accuracy')\n",
        "plt.plot(epochs, val_acc, 'b', label='Validation accuracy')\n",
        "plt.title('Training and validation accuracy')\n",
        "\n",
        "plt.figure()\n",
        "\n",
        "plt.plot(epochs, loss, 'r', label='Training Loss')\n",
        "plt.plot(epochs, val_loss, 'b', label='Validation Loss')\n",
        "plt.title('Training and validation loss')\n",
        "plt.legend()\n",
        "\n",
        "plt.show()"
      ],
      "execution_count": 22,
      "outputs": [
        {
          "output_type": "display_data",
          "data": {
            "image/png": "[encoded data removed]",
            "text/plain": [
              "<Figure size 432x288 with 1 Axes>"
            ]
          },
          "metadata": {
            "tags": [],
            "needs_background": "light"
          }
        },
        {
          "output_type": "display_data",
          "data": {
            "image/png": "[encoded data removed]",
            "text/plain": [
              "<Figure size 432x288 with 1 Axes>"
            ]
          },
          "metadata": {
            "tags": [],
            "needs_background": "light"
          }
        }
      ]
    }
  ]
}